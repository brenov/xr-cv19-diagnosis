{
 "cells": [
  {
   "cell_type": "code",
   "execution_count": 16,
   "metadata": {},
   "outputs": [],
   "source": [
    "import glob\n",
    "import numpy as np\n",
    "from tensorflow.keras.applications.resnet50 import ResNet50\n",
    "from tensorflow.keras.preprocessing import image\n",
    "from tensorflow.python.keras import layers\n",
    "from tensorflow.keras.applications.resnet50 import preprocess_input, decode_predictions\n",
    "from tensorflow.python.keras import models\n",
    "import tensorflow as tf\n",
    "from sklearn.preprocessing import LabelBinarizer\n",
    "from sklearn import metrics\n",
    "import pandas as pd\n",
    "import seaborn as sns\n",
    "import matplotlib.pyplot as plt"
   ]
  },
  {
   "cell_type": "code",
   "execution_count": 2,
   "metadata": {},
   "outputs": [],
   "source": [
    "def read_many(path):\n",
    "    \"\"\"\n",
    "    Read all imagens in directory.\n",
    "    \n",
    "    Parameters\n",
    "    ----------\n",
    "    path: str\n",
    "        Dataset path of a class (COVID or NON-COVID).\n",
    "    \n",
    "    Returns\n",
    "    -------\n",
    "    out : [ndarray]\n",
    "        List of images.\n",
    "    \"\"\"\n",
    "    # Get the path of all images\n",
    "    list_imgs = list(glob.glob(path))\n",
    "    out = []\n",
    "    \n",
    "    # Load all images of the given paths\n",
    "    for i in range(len(list_imgs)):\n",
    "        # Read the image in shape of (244, 244, 3)\n",
    "        try:\n",
    "            img = image.load_img(list_imgs[i], target_size=(224, 224, 3))\n",
    "            x = image.img_to_array(img)\n",
    "            out.append(x)\n",
    "        # Print error\n",
    "        except ValueError:\n",
    "            print('Error reading the following image:', list_imgs[i])\n",
    "    \n",
    "    # Return the loaded images\n",
    "    return out\n",
    "\n",
    "\n",
    "def load_dir(paths):\n",
    "    \"\"\"\n",
    "    Read images of COVID and NON-COVID cases.\n",
    "    \n",
    "    Parameters\n",
    "    ----------\n",
    "    paths: [str]\n",
    "        Original and augmented dataset paths.\n",
    "    \n",
    "    Returns\n",
    "    -------\n",
    "    X : [ndarray]\n",
    "        List of images.\n",
    "    Y : [str]\n",
    "        Labels of the images (i.e., 0 - NON-COVID; 1 - COVID).\n",
    "    \"\"\"\n",
    "    # Arrays of images of COVID and NON-COVID cases\n",
    "    covid = []\n",
    "    non_covid = []\n",
    "    \n",
    "    # Read images\n",
    "    for path in paths:\n",
    "        # Read images of covid cases\n",
    "        covid.extend(read_many('{}/COVID/*'.format(path)))\n",
    "        # Read images of non-covid cases\n",
    "        non_covid.extend(read_many('{}/NON_COVID/*'.format(path)))\n",
    "    \n",
    "    # Set COVID classes\n",
    "    y_covid = np.asarray([1] * len(covid))\n",
    "    y_non_covid = np.asarray([0] * len(non_covid))\n",
    "    \n",
    "    # Merge the read images\n",
    "    X = np.concatenate([np.array(covid), np.array(non_covid)]) / 255\n",
    "    Y = np.concatenate([np.array(y_covid), np.array(y_non_covid)])\n",
    "    lb = LabelBinarizer()\n",
    "    Y=lb.fit_transform(Y)\n",
    "    \n",
    "    assert len(X) == len(Y), 'The number of images and the number of classes are different!'\n",
    "    print('Images read:', len(X))\n",
    "    \n",
    "    # Return the read images and their labels\n",
    "    return (X, Y)"
   ]
  },
  {
   "cell_type": "code",
   "execution_count": 3,
   "metadata": {},
   "outputs": [],
   "source": [
    "def load_models(path):\n",
    "    models_name=list(glob.glob(path+\"*\"))\n",
    "    models={}\n",
    "    \n",
    "    for model_name in models_name:\n",
    "        #mprint(models_name)\n",
    "        file=model_name.split(\"/\")[-1]\n",
    "        name=file.split(\".\")[0]\n",
    "        models[name]=tf.keras.models.load_model(model_name)\n",
    "        \n",
    "    return models\n",
    "    "
   ]
  },
  {
   "cell_type": "code",
   "execution_count": 4,
   "metadata": {},
   "outputs": [
    {
     "name": "stdout",
     "output_type": "stream",
     "text": [
      "Images read: 800\n"
     ]
    }
   ],
   "source": [
    "TestX, TestY = load_dir(['Dataset/Test'])"
   ]
  },
  {
   "cell_type": "code",
   "execution_count": 5,
   "metadata": {},
   "outputs": [],
   "source": [
    "models=load_models(\"modelos/\")"
   ]
  },
  {
   "cell_type": "code",
   "execution_count": 6,
   "metadata": {},
   "outputs": [
    {
     "data": {
      "text/plain": [
       "dict_keys(['Rotation', 'Sharpness', 'Noise', 'Contrast', 'None'])"
      ]
     },
     "execution_count": 6,
     "metadata": {},
     "output_type": "execute_result"
    }
   ],
   "source": [
    "models.keys()"
   ]
  },
  {
   "cell_type": "code",
   "execution_count": 7,
   "metadata": {},
   "outputs": [
    {
     "name": "stdout",
     "output_type": "stream",
     "text": [
      "Rotation\n",
      "Sharpness\n",
      "Noise\n",
      "Contrast\n",
      "None\n"
     ]
    }
   ],
   "source": [
    "preds={}\n",
    "for name in models.keys():\n",
    "    print (name)\n",
    "    preds[name]=models[name].predict(TestX)"
   ]
  },
  {
   "cell_type": "code",
   "execution_count": 84,
   "metadata": {},
   "outputs": [
    {
     "name": "stdout",
     "output_type": "stream",
     "text": [
      "None\n",
      "              precision    recall  f1-score   support\n",
      "\n",
      "           0       0.97      0.93      0.95       600\n",
      "           1       0.81      0.92      0.86       200\n",
      "\n",
      "    accuracy                           0.93       800\n",
      "   macro avg       0.89      0.92      0.90       800\n",
      "weighted avg       0.93      0.93      0.93       800\n",
      "\n",
      "\n",
      "\n",
      "\n",
      "\n",
      "\n",
      "\n",
      "\n",
      "\n",
      "\n",
      "\n",
      "\n",
      "Noise\n",
      "              precision    recall  f1-score   support\n",
      "\n",
      "           0       0.99      0.54      0.70       600\n",
      "           1       0.42      0.98      0.59       200\n",
      "\n",
      "    accuracy                           0.65       800\n",
      "   macro avg       0.70      0.76      0.64       800\n",
      "weighted avg       0.85      0.65      0.67       800\n",
      "\n",
      "\n",
      "\n",
      "\n",
      "\n",
      "\n",
      "\n",
      "\n",
      "\n",
      "\n",
      "\n",
      "\n",
      "Rotation\n",
      "              precision    recall  f1-score   support\n",
      "\n",
      "           0       0.89      0.67      0.76       600\n",
      "           1       0.43      0.76      0.55       200\n",
      "\n",
      "    accuracy                           0.69       800\n",
      "   macro avg       0.66      0.71      0.66       800\n",
      "weighted avg       0.78      0.69      0.71       800\n",
      "\n",
      "\n",
      "\n",
      "\n",
      "\n",
      "\n",
      "\n",
      "\n",
      "\n",
      "\n",
      "\n",
      "\n",
      "Sharpness\n",
      "              precision    recall  f1-score   support\n",
      "\n",
      "           0       0.95      0.95      0.95       600\n",
      "           1       0.86      0.84      0.85       200\n",
      "\n",
      "    accuracy                           0.93       800\n",
      "   macro avg       0.90      0.90      0.90       800\n",
      "weighted avg       0.92      0.93      0.92       800\n",
      "\n",
      "\n",
      "\n",
      "\n",
      "\n",
      "\n",
      "\n",
      "\n",
      "\n",
      "\n",
      "\n",
      "\n",
      "Contrast\n",
      "              precision    recall  f1-score   support\n",
      "\n",
      "           0       0.96      0.98      0.97       600\n",
      "           1       0.93      0.88      0.90       200\n",
      "\n",
      "    accuracy                           0.95       800\n",
      "   macro avg       0.94      0.93      0.94       800\n",
      "weighted avg       0.95      0.95      0.95       800\n",
      "\n",
      "\n",
      "\n",
      "\n",
      "\n",
      "\n",
      "\n",
      "\n",
      "\n",
      "\n",
      "\n",
      "\n"
     ]
    }
   ],
   "source": [
    "lb = LabelBinarizer()\n",
    "metrics_names={\"balanced accuracy\": [],\"f1-score\":[],\"precision\":[],\"recall\":[]}\n",
    "order=[\"None\",\"Noise\",\"Rotation\",\"Sharpness\",\"Contrast\"]\n",
    "for pred_name in order:\n",
    "    Y=lb.fit_transform(preds[pred_name]>0.5)\n",
    "    print (pred_name)\n",
    "    metrics_names[\"balanced accuracy\"].append(metrics.balanced_accuracy_score(TestY, Y))\n",
    "    metrics_names[\"f1-score\"].append(metrics.f1_score(TestY, Y))\n",
    "    metrics_names[\"precision\"].append(metrics.precision_score(TestY, Y))\n",
    "    metrics_names[\"recall\"].append(metrics.recall_score(TestY, Y))\n",
    "    \n",
    "    print(metrics.classification_report(TestY, Y))\n",
    "    print ('\\n'*10)\n",
    "    \n",
    "df2 = pd.DataFrame.from_dict(metrics_names, orient='index',columns=order)\n"
   ]
  },
  {
   "cell_type": "code",
   "execution_count": 85,
   "metadata": {},
   "outputs": [
    {
     "data": {
      "text/html": [
       "<div>\n",
       "<style scoped>\n",
       "    .dataframe tbody tr th:only-of-type {\n",
       "        vertical-align: middle;\n",
       "    }\n",
       "\n",
       "    .dataframe tbody tr th {\n",
       "        vertical-align: top;\n",
       "    }\n",
       "\n",
       "    .dataframe thead th {\n",
       "        text-align: right;\n",
       "    }\n",
       "</style>\n",
       "<table border=\"1\" class=\"dataframe\">\n",
       "  <thead>\n",
       "    <tr style=\"text-align: right;\">\n",
       "      <th></th>\n",
       "      <th>None</th>\n",
       "      <th>Noise</th>\n",
       "      <th>Rotation</th>\n",
       "      <th>Sharpness</th>\n",
       "      <th>Contrast</th>\n",
       "    </tr>\n",
       "  </thead>\n",
       "  <tbody>\n",
       "    <tr>\n",
       "      <th>balanced accuracy</th>\n",
       "      <td>0.921667</td>\n",
       "      <td>0.762500</td>\n",
       "      <td>0.710833</td>\n",
       "      <td>0.896667</td>\n",
       "      <td>0.928333</td>\n",
       "    </tr>\n",
       "    <tr>\n",
       "      <th>f1-score</th>\n",
       "      <td>0.859155</td>\n",
       "      <td>0.585438</td>\n",
       "      <td>0.548094</td>\n",
       "      <td>0.848485</td>\n",
       "      <td>0.902564</td>\n",
       "    </tr>\n",
       "    <tr>\n",
       "      <th>precision</th>\n",
       "      <td>0.809735</td>\n",
       "      <td>0.416490</td>\n",
       "      <td>0.430199</td>\n",
       "      <td>0.857143</td>\n",
       "      <td>0.926316</td>\n",
       "    </tr>\n",
       "    <tr>\n",
       "      <th>recall</th>\n",
       "      <td>0.915000</td>\n",
       "      <td>0.985000</td>\n",
       "      <td>0.755000</td>\n",
       "      <td>0.840000</td>\n",
       "      <td>0.880000</td>\n",
       "    </tr>\n",
       "  </tbody>\n",
       "</table>\n",
       "</div>"
      ],
      "text/plain": [
       "                       None     Noise  Rotation  Sharpness  Contrast\n",
       "balanced accuracy  0.921667  0.762500  0.710833   0.896667  0.928333\n",
       "f1-score           0.859155  0.585438  0.548094   0.848485  0.902564\n",
       "precision          0.809735  0.416490  0.430199   0.857143  0.926316\n",
       "recall             0.915000  0.985000  0.755000   0.840000  0.880000"
      ]
     },
     "execution_count": 85,
     "metadata": {},
     "output_type": "execute_result"
    }
   ],
   "source": [
    "df2"
   ]
  },
  {
   "cell_type": "code",
   "execution_count": 98,
   "metadata": {},
   "outputs": [
    {
     "data": {
      "text/plain": [
       "<matplotlib.legend.Legend at 0x7ff8914a3940>"
      ]
     },
     "execution_count": 98,
     "metadata": {},
     "output_type": "execute_result"
    },
    {
     "data": {
      "image/png": "[encoded data removed]",
      "text/plain": [
       "<Figure size 1080x720 with 1 Axes>"
      ]
     },
     "metadata": {
      "needs_background": "light"
     },
     "output_type": "display_data"
    }
   ],
   "source": [
    "\n",
    "ax = df2.plot.bar(rot=0,figsize=(15, 10),fontsize=20)\n",
    "for p in ax.patches:\n",
    "    ax.annotate(\"{:.2f}\".format(p.get_height()), (p.get_x() * 1.005, p.get_height() * 1.010),fontsize=16,rotation=90)\n",
    "    \n",
    "ax.set_ylabel(\"Probabilidade\",fontsize=20)\n",
    "ax.set_xlabel(\"Métrica Testada\",fontsize=20)\n",
    "ax.legend(loc=0,fontsize=16)  \n",
    "#plt.tick_params( labelsize=17)\n",
    "\n",
    "\n",
    "\n",
    "    "
   ]
  }
 ],
 "metadata": {
  "kernelspec": {
   "display_name": "Python 3",
   "language": "python",
   "name": "python3"
  },
  "language_info": {
   "codemirror_mode": {
    "name": "ipython",
    "version": 3
   },
   "file_extension": ".py",
   "mimetype": "text/x-python",
   "name": "python",
   "nbconvert_exporter": "python",
   "pygments_lexer": "ipython3",
   "version": "3.9.5"
  }
 },
 "nbformat": 4,
 "nbformat_minor": 4
}
