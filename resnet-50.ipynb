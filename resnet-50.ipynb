{
 "cells": [
  {
   "cell_type": "markdown",
   "metadata": {},
   "source": [
    "## Using ResNet50"
   ]
  },
  {
   "cell_type": "code",
   "execution_count": 7,
   "metadata": {
    "executionInfo": {
     "elapsed": 454,
     "status": "ok",
     "timestamp": 1624304728755,
     "user": {
      "displayName": "Breno Mauricio de Freitas Viana",
      "photoUrl": "https://lh3.googleusercontent.com/a-/AOh14GihbovfudEt4TcKCvVQzlIxS9tXhiHfhQOgWBUP=s64",
      "userId": "09535906535393894999"
     },
     "user_tz": 180
    },
    "id": "zKVy7q3IGkgB"
   },
   "outputs": [],
   "source": [
    "import glob\n",
    "import numpy as np\n",
    "from tensorflow.keras.applications.resnet50 import ResNet50\n",
    "from tensorflow.keras.preprocessing import image\n",
    "from tensorflow.python.keras import layers\n",
    "from tensorflow.keras.applications.resnet50 import preprocess_input, decode_predictions\n",
    "from tensorflow.python.keras import models\n",
    "import tensorflow as tf\n",
    "from sklearn.preprocessing import LabelBinarizer"
   ]
  },
  {
   "cell_type": "markdown",
   "metadata": {
    "id": "WzZHHKErH09V"
   },
   "source": [
    "### Print the device configuration"
   ]
  },
  {
   "cell_type": "code",
   "execution_count": 8,
   "metadata": {
    "colab": {
     "base_uri": "https://localhost:8080/"
    },
    "executionInfo": {
     "elapsed": 404,
     "status": "ok",
     "timestamp": 1624305001335,
     "user": {
      "displayName": "Breno Mauricio de Freitas Viana",
      "photoUrl": "https://lh3.googleusercontent.com/a-/AOh14GihbovfudEt4TcKCvVQzlIxS9tXhiHfhQOgWBUP=s64",
      "userId": "09535906535393894999"
     },
     "user_tz": 180
    },
    "id": "PSSuVbkrGkgI",
    "outputId": "af09cfaa-9128-4729-d2d3-047dbcfe9ebe"
   },
   "outputs": [
    {
     "name": "stdout",
     "output_type": "stream",
     "text": [
      "name: \"/device:CPU:0\"\n",
      "device_type: \"CPU\"\n",
      "memory_limit: 268435456\n",
      "locality {\n",
      "}\n",
      "incarnation: 3135092568304091522\n"
     ]
    }
   ],
   "source": [
    "tf.keras.backend.clear_session()\n",
    "from tensorflow.python.client import device_lib\n",
    "print(device_lib.list_local_devices()[0], end='')"
   ]
  },
  {
   "cell_type": "markdown",
   "metadata": {
    "id": "UINzptJhH5c_"
   },
   "source": [
    "### Get the images of train dataset"
   ]
  },
  {
   "cell_type": "code",
   "execution_count": 9,
   "metadata": {
    "executionInfo": {
     "elapsed": 299,
     "status": "ok",
     "timestamp": 1624305908282,
     "user": {
      "displayName": "Breno Mauricio de Freitas Viana",
      "photoUrl": "https://lh3.googleusercontent.com/a-/AOh14GihbovfudEt4TcKCvVQzlIxS9tXhiHfhQOgWBUP=s64",
      "userId": "09535906535393894999"
     },
     "user_tz": 180
    },
    "id": "MVyp54N7IJO2"
   },
   "outputs": [],
   "source": [
    "def read_many(path):\n",
    "    \"\"\"\n",
    "    Read all imagens in directory.\n",
    "    \n",
    "    Parameters\n",
    "    ----------\n",
    "    path: str\n",
    "        Dataset path of a class (COVID or NON-COVID).\n",
    "    \n",
    "    Returns\n",
    "    -------\n",
    "    out : [ndarray]\n",
    "        List of images.\n",
    "    \"\"\"\n",
    "    # Get the path of all images\n",
    "    list_imgs = list(glob.glob(path))\n",
    "    out = []\n",
    "    \n",
    "    # Load all images of the given paths\n",
    "    for i in range(len(list_imgs)):\n",
    "        # Read the image in shape of (244, 244, 3)\n",
    "        try:\n",
    "            img = image.load_img(list_imgs[i], target_size=(224, 224, 3))\n",
    "            x = image.img_to_array(img)\n",
    "            out.append(x)\n",
    "        # Print error\n",
    "        except ValueError:\n",
    "            print('Error reading the following image:', list_imgs[i])\n",
    "    \n",
    "    # Return the loaded images\n",
    "    return out\n",
    "\n",
    "\n",
    "def load_dir(paths):\n",
    "    \"\"\"\n",
    "    Read images of COVID and NON-COVID cases.\n",
    "    \n",
    "    Parameters\n",
    "    ----------\n",
    "    paths: [str]\n",
    "        Original and augmented dataset paths.\n",
    "    \n",
    "    Returns\n",
    "    -------\n",
    "    X : [ndarray]\n",
    "        List of images.\n",
    "    Y : [str]\n",
    "        Labels of the images (i.e., 0 - NON-COVID; 1 - COVID).\n",
    "    \"\"\"\n",
    "    # Arrays of images of COVID and NON-COVID cases\n",
    "    covid = []\n",
    "    non_covid = []\n",
    "    \n",
    "    # Read images\n",
    "    for path in paths:\n",
    "        # Read images of covid cases\n",
    "        covid.extend(read_many('{}/COVID/*'.format(path)))\n",
    "        # Read images of non-covid cases\n",
    "        non_covid.extend(read_many('{}/NON_COVID/*'.format(path)))\n",
    "    \n",
    "    # Set COVID classes\n",
    "    y_covid = np.asarray([1] * len(covid))\n",
    "    y_non_covid = np.asarray([0] * len(non_covid))\n",
    "    \n",
    "    # Merge the read images\n",
    "    X = np.concatenate([np.array(covid), np.array(non_covid)]) / 255\n",
    "    Y = np.concatenate([np.array(y_covid), np.array(y_non_covid)])\n",
    "    lb = LabelBinarizer()\n",
    "    Y=lb.fit_transform(Y)\n",
    "    \n",
    "    assert len(X) == len(Y), 'The number of images and the number of classes are different!'\n",
    "    print('Images read:', len(X))\n",
    "    \n",
    "    # Return the read images and their labels\n",
    "    return (X, Y)\n"
   ]
  },
  {
   "cell_type": "code",
   "execution_count": 10,
   "metadata": {
    "executionInfo": {
     "elapsed": 528,
     "status": "ok",
     "timestamp": 1624305910664,
     "user": {
      "displayName": "Breno Mauricio de Freitas Viana",
      "photoUrl": "https://lh3.googleusercontent.com/a-/AOh14GihbovfudEt4TcKCvVQzlIxS9tXhiHfhQOgWBUP=s64",
      "userId": "09535906535393894999"
     },
     "user_tz": 180
    },
    "id": "nXfTc39zGkgL"
   },
   "outputs": [
    {
     "name": "stdout",
     "output_type": "stream",
     "text": [
      "Images read: 28\n",
      "--> (28, 224, 224, 3)\n"
     ]
    }
   ],
   "source": [
    "NUM_EPOCH = 10\n",
    "AUG = \"Contrast\" #Noise, Sharpness, Rotation\n",
    "\n",
    "TrainX, TrainY = load_dir(['Dataset/Train', 'Augmented/Train/{}'.format(AUG)])\n",
    "print (\"-->\",TrainX.shape)\n"
   ]
  },
  {
   "cell_type": "markdown",
   "metadata": {
    "id": "b337LlciKamR"
   },
   "source": [
    "### Convolutional Neural Network"
   ]
  },
  {
   "cell_type": "code",
   "execution_count": 11,
   "metadata": {
    "executionInfo": {
     "elapsed": 408,
     "status": "ok",
     "timestamp": 1624306084834,
     "user": {
      "displayName": "Breno Mauricio de Freitas Viana",
      "photoUrl": "https://lh3.googleusercontent.com/a-/AOh14GihbovfudEt4TcKCvVQzlIxS9tXhiHfhQOgWBUP=s64",
      "userId": "09535906535393894999"
     },
     "user_tz": 180
    },
    "id": "jSFyLvWtGkgN"
   },
   "outputs": [],
   "source": [
    "\n",
    "def CNN():\n",
    "    \"\"\"\n",
    "    Return a Convolutional Neural Network (CNN) architecture.\n",
    "\n",
    "    Returns\n",
    "    -------\n",
    "    model : Model\n",
    "        The CNN model architeture.\n",
    "    \"\"\"\n",
    "    # Create a new ResNet50\n",
    "    conv_base = ResNet50(weights='imagenet',\n",
    "                         # include_top = False,\n",
    "                         # input_shape = (224,224, 3)\n",
    "                        )\n",
    "    conv_base.trainable = True\n",
    "    # conv_base.summary()\n",
    "    \n",
    "    # model = conv_base\n",
    "    # Instance of a sequential neural network\n",
    "    model = models.Sequential()\n",
    "    # Add the resnet50 to the sequential CNN\n",
    "    model.add(conv_base)\n",
    "    # Add a flaterns layer\n",
    "    model.add(layers.Flatten())\n",
    "    # Add a droput layer to avoid overfiting and minimize complexity\n",
    "    model.add(layers.Dropout(0.5))\n",
    "    \n",
    "    model.add(layers.Dense(256, activation = 'relu'))\n",
    "    # Add a final sigmoid layer for binary classification\n",
    "    model.add(layers.Dense(1, activation = 'sigmoid'))\n",
    "    # model.summary()\n",
    "    \n",
    "    # Compile the CNN model\n",
    "    model.compile(optimizer='adam',\n",
    "                  loss='binary_crossentropy',\n",
    "                  metrics=['accuracy'],\n",
    "                    weighted_metrics=['accuracy']\n",
    "                  # model configuration\n",
    "                 )\n",
    "    \n",
    "    # Return the built CNN model\n",
    "    return model, conv_base\n"
   ]
  },
  {
   "cell_type": "code",
   "execution_count": 12,
   "metadata": {
    "executionInfo": {
     "elapsed": 2202,
     "status": "ok",
     "timestamp": 1624306091169,
     "user": {
      "displayName": "Breno Mauricio de Freitas Viana",
      "photoUrl": "https://lh3.googleusercontent.com/a-/AOh14GihbovfudEt4TcKCvVQzlIxS9tXhiHfhQOgWBUP=s64",
      "userId": "09535906535393894999"
     },
     "user_tz": 180
    },
    "id": "Q8cAtlNIGkgO"
   },
   "outputs": [
    {
     "name": "stdout",
     "output_type": "stream",
     "text": [
      "Model: \"sequential\"\n",
      "_________________________________________________________________\n",
      "Layer (type)                 Output Shape              Param #   \n",
      "=================================================================\n",
      "resnet50 (Functional)        (None, 1000)              25636712  \n",
      "_________________________________________________________________\n",
      "flatten (Flatten)            (None, 1000)              0         \n",
      "_________________________________________________________________\n",
      "dropout (Dropout)            (None, 1000)              0         \n",
      "_________________________________________________________________\n",
      "dense (Dense)                (None, 256)               256256    \n",
      "_________________________________________________________________\n",
      "dense_1 (Dense)              (None, 1)                 257       \n",
      "=================================================================\n",
      "Total params: 25,893,225\n",
      "Trainable params: 25,840,105\n",
      "Non-trainable params: 53,120\n",
      "_________________________________________________________________\n"
     ]
    }
   ],
   "source": [
    "model,base = CNN()\n",
    "model.summary()"
   ]
  },
  {
   "cell_type": "markdown",
   "metadata": {
    "id": "y6MnS3hcKmBO"
   },
   "source": [
    "### Train the CNN"
   ]
  },
  {
   "cell_type": "code",
   "execution_count": 13,
   "metadata": {
    "colab": {
     "base_uri": "https://localhost:8080/",
     "height": 324
    },
    "executionInfo": {
     "elapsed": 443,
     "status": "error",
     "timestamp": 1624306151415,
     "user": {
      "displayName": "Breno Mauricio de Freitas Viana",
      "photoUrl": "https://lh3.googleusercontent.com/a-/AOh14GihbovfudEt4TcKCvVQzlIxS9tXhiHfhQOgWBUP=s64",
      "userId": "09535906535393894999"
     },
     "user_tz": 180
    },
    "id": "LgPbQr1NGkgQ",
    "outputId": "83d1b7ff-0115-4fb7-cef0-0462a8982bd0"
   },
   "outputs": [
    {
     "name": "stdout",
     "output_type": "stream",
     "text": [
      "Epoch 1/10\n",
      "1/1 [==============================] - 15s 15s/step - loss: 0.6934 - accuracy: 0.3571 - weighted_accuracy: 0.3571\n",
      "Epoch 2/10\n",
      "1/1 [==============================] - 7s 7s/step - loss: 0.6825 - accuracy: 0.7857 - weighted_accuracy: 0.7857\n",
      "Epoch 3/10\n",
      "1/1 [==============================] - 7s 7s/step - loss: 0.6745 - accuracy: 0.8214 - weighted_accuracy: 0.8214\n",
      "Epoch 4/10\n",
      "1/1 [==============================] - 7s 7s/step - loss: 0.6613 - accuracy: 0.9286 - weighted_accuracy: 0.9286\n",
      "Epoch 5/10\n",
      "1/1 [==============================] - 8s 8s/step - loss: 0.6505 - accuracy: 0.8571 - weighted_accuracy: 0.8571\n",
      "Epoch 6/10\n",
      "1/1 [==============================] - 7s 7s/step - loss: 0.6413 - accuracy: 0.8929 - weighted_accuracy: 0.8929\n",
      "Epoch 7/10\n",
      "1/1 [==============================] - 7s 7s/step - loss: 0.6393 - accuracy: 0.8571 - weighted_accuracy: 0.8571\n",
      "Epoch 8/10\n",
      "1/1 [==============================] - 7s 7s/step - loss: 0.6312 - accuracy: 0.8571 - weighted_accuracy: 0.8571\n",
      "Epoch 9/10\n",
      "1/1 [==============================] - 7s 7s/step - loss: 0.6178 - accuracy: 0.9286 - weighted_accuracy: 0.9286\n",
      "Epoch 10/10\n",
      "1/1 [==============================] - 6s 6s/step - loss: 0.6264 - accuracy: 0.8214 - weighted_accuracy: 0.8214\n"
     ]
    },
    {
     "data": {
      "text/plain": [
       "<tensorflow.python.keras.callbacks.History at 0x7fe20c137640>"
      ]
     },
     "execution_count": 13,
     "metadata": {},
     "output_type": "execute_result"
    }
   ],
   "source": [
    "model.fit(x=TrainX, y=TrainY, epochs=NUM_EPOCH,batch_size=32)"
   ]
  },
  {
   "cell_type": "code",
   "execution_count": null,
   "metadata": {},
   "outputs": [],
   "source": []
  }
 ],
 "metadata": {
  "colab": {
   "collapsed_sections": [],
   "name": "resnet-50-2.ipynb",
   "provenance": []
  },
  "kernelspec": {
   "display_name": "Python 3",
   "language": "python",
   "name": "python3"
  },
  "language_info": {
   "codemirror_mode": {
    "name": "ipython",
    "version": 3
   },
   "file_extension": ".py",
   "mimetype": "text/x-python",
   "name": "python",
   "nbconvert_exporter": "python",
   "pygments_lexer": "ipython3",
   "version": "3.8.5"
  }
 },
 "nbformat": 4,
 "nbformat_minor": 1
}
