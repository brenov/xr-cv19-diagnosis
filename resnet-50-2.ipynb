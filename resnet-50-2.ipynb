{
 "cells": [
  {
   "cell_type": "code",
   "execution_count": 1,
   "metadata": {},
   "outputs": [],
   "source": [
    "from tensorflow.keras.applications.resnet50 import ResNet50\n",
    "from tensorflow.keras.preprocessing import image\n",
    "from tensorflow.python.keras import layers\n",
    "from tensorflow.keras.applications.resnet50 import preprocess_input, decode_predictions\n",
    "from tensorflow.python.keras import models\n",
    "import tensorflow as tf\n",
    "import numpy as np\n",
    "import glob"
   ]
  },
  {
   "cell_type": "code",
   "execution_count": 2,
   "metadata": {},
   "outputs": [
    {
     "name": "stdout",
     "output_type": "stream",
     "text": [
      "[name: \"/device:CPU:0\"\n",
      "device_type: \"CPU\"\n",
      "memory_limit: 268435456\n",
      "locality {\n",
      "}\n",
      "incarnation: 8886766822589783651\n",
      "]\n"
     ]
    }
   ],
   "source": [
    "tf.keras.backend.clear_session()\n",
    "from tensorflow.python.client import device_lib\n",
    "print(device_lib.list_local_devices())"
   ]
  },
  {
   "cell_type": "code",
   "execution_count": 3,
   "metadata": {},
   "outputs": [],
   "source": [
    "def read_many(directory):\n",
    "    '''read all imagens in direactory\n",
    "    directory: string\n",
    "    \n",
    "    returns list of images\n",
    "    '''\n",
    "    list_imgs=list(glob.glob(directory))\n",
    "    imgs=[]\n",
    "    for i in range(len(list_imgs)):\n",
    "        try:\n",
    "            img = image.load_img(list_imgs[i], target_size=(224,224,3)) #read the image in shape of 244,244,3 \n",
    "            x = image.img_to_array(img)\n",
    "            imgs.append(x)\n",
    "        except ValueError:\n",
    "            print(\"error reading the following image:\",list_imgs[i])\n",
    "    return imgs\n",
    "\n",
    "\n",
    "def load_dir(directory):\n",
    "    '''read images for COVID and NON-COVID\n",
    "    returns:\n",
    "    X - images\n",
    "    y - label of the images (i.e., 0 - NON-COVID; 1 - COVID)\n",
    "    '''\n",
    "    \n",
    "    covid=read_many(\"{}/COVID/*\".format(directory))\n",
    "    y_covid=[1]*len(covid)\n",
    "    non_covid=read_many(\"{}/COVID/*\".format(directory))\n",
    "    y_non_covid=[0]*len(non_covid)\n",
    "    X=np.concatenate([np.asarray(covid), np.asarray(non_covid)])\n",
    "    Y=np.concatenate([np.asarray(y_covid), np.asarray(y_non_covid)])\n",
    "    return (X, Y) \n",
    "    "
   ]
  },
  {
   "cell_type": "code",
   "execution_count": 4,
   "metadata": {},
   "outputs": [],
   "source": [
    "X,Y=load_dir(\"Dataset/Train\")"
   ]
  },
  {
   "cell_type": "code",
   "execution_count": null,
   "metadata": {},
   "outputs": [],
   "source": []
  },
  {
   "cell_type": "code",
   "execution_count": 9,
   "metadata": {},
   "outputs": [],
   "source": [
    "def CNN():\n",
    "    '''Convolutional neural network architetures\n",
    "    returns the CNN model architeture\n",
    "    '''\n",
    "    conv_base = ResNet50(weights='imagenet',\n",
    "                         #include_top = False,\n",
    "                         #input_shape = (224,224, 3)\n",
    "                        )\n",
    "\n",
    "\n",
    "    # conv_base.summary()\n",
    "    \n",
    "    conv_base.trainable = True\n",
    "    #model=conv_base\n",
    "    model = models.Sequential() #instance of a sequential neural network\n",
    "    model.add(conv_base) #add the resnet50 to the sequential CNN\n",
    "    model.add(layers.Flatten()) #add a flaterns layer\n",
    "    model.add(layers.Dropout(0.2)) #add a droput layer for avoid overfiting\n",
    "    model.add(layers.Dense(256, activation = 'relu')) #add relu layer for future classification\n",
    "    model.add(layers.Dense(1, activation = 'sigmoid')) #add a final sigmoid layer for binary classification\n",
    "    \n",
    "    #model.summary()\n",
    "    \n",
    "    model.compile(optimizer='adam',\n",
    "              loss='binary_crossentropy',\n",
    "              metrics=['accuracy'])  #model configuration\n",
    "    \n",
    "    return model"
   ]
  },
  {
   "cell_type": "code",
   "execution_count": 10,
   "metadata": {},
   "outputs": [],
   "source": [
    "model=CNN()"
   ]
  },
  {
   "cell_type": "code",
   "execution_count": null,
   "metadata": {},
   "outputs": [],
   "source": []
  },
  {
   "cell_type": "code",
   "execution_count": null,
   "metadata": {},
   "outputs": [],
   "source": []
  },
  {
   "cell_type": "code",
   "execution_count": 11,
   "metadata": {},
   "outputs": [
    {
     "name": "stdout",
     "output_type": "stream",
     "text": [
      "Epoch 1/10\n",
      "1/1 [==============================] - 9s 9s/step - loss: 0.6929 - accuracy: 0.5000\n",
      "Epoch 2/10\n",
      "1/1 [==============================] - 3s 3s/step - loss: 0.6906 - accuracy: 0.6429\n",
      "Epoch 3/10\n",
      "1/1 [==============================] - 3s 3s/step - loss: 0.6914 - accuracy: 0.5000\n",
      "Epoch 4/10\n",
      "1/1 [==============================] - 4s 4s/step - loss: 0.6930 - accuracy: 0.5000\n",
      "Epoch 5/10\n",
      "1/1 [==============================] - 4s 4s/step - loss: 0.6934 - accuracy: 0.4286\n",
      "Epoch 6/10\n",
      "1/1 [==============================] - 6s 6s/step - loss: 0.6954 - accuracy: 0.5000\n",
      "Epoch 7/10\n",
      "1/1 [==============================] - 4s 4s/step - loss: 0.6972 - accuracy: 0.5000\n",
      "Epoch 8/10\n",
      "1/1 [==============================] - 4s 4s/step - loss: 0.6920 - accuracy: 0.4286\n",
      "Epoch 9/10\n",
      "1/1 [==============================] - 4s 4s/step - loss: 0.6945 - accuracy: 0.5000\n",
      "Epoch 10/10\n",
      "1/1 [==============================] - 4s 4s/step - loss: 0.6955 - accuracy: 0.3571\n"
     ]
    },
    {
     "data": {
      "text/plain": [
       "<tensorflow.python.keras.callbacks.History at 0x7fedb4cd3550>"
      ]
     },
     "execution_count": 11,
     "metadata": {},
     "output_type": "execute_result"
    }
   ],
   "source": [
    "model.fit(x=X/255,y=Y,epochs=10) #training the model"
   ]
  },
  {
   "cell_type": "code",
   "execution_count": 13,
   "metadata": {},
   "outputs": [
    {
     "data": {
      "text/plain": [
       "array([[0.5014292 ],\n",
       "       [0.5020103 ],\n",
       "       [0.502618  ],\n",
       "       [0.5019128 ],\n",
       "       [0.5022068 ],\n",
       "       [0.5023143 ],\n",
       "       [0.50172204],\n",
       "       [0.5014292 ],\n",
       "       [0.5020103 ],\n",
       "       [0.502618  ],\n",
       "       [0.5019128 ],\n",
       "       [0.5022068 ],\n",
       "       [0.5023143 ],\n",
       "       [0.50172204]], dtype=float32)"
      ]
     },
     "execution_count": 13,
     "metadata": {},
     "output_type": "execute_result"
    }
   ],
   "source": [
    "model.predict(X/255) #predicting the model class"
   ]
  },
  {
   "cell_type": "code",
   "execution_count": 98,
   "metadata": {},
   "outputs": [
    {
     "data": {
      "text/plain": [
       "(14,)"
      ]
     },
     "execution_count": 98,
     "metadata": {},
     "output_type": "execute_result"
    }
   ],
   "source": []
  },
  {
   "cell_type": "code",
   "execution_count": null,
   "metadata": {},
   "outputs": [],
   "source": []
  },
  {
   "cell_type": "code",
   "execution_count": null,
   "metadata": {},
   "outputs": [],
   "source": []
  }
 ],
 "metadata": {
  "kernelspec": {
   "display_name": "Python 3",
   "language": "python",
   "name": "python3"
  },
  "language_info": {
   "codemirror_mode": {
    "name": "ipython",
    "version": 3
   },
   "file_extension": ".py",
   "mimetype": "text/x-python",
   "name": "python",
   "nbconvert_exporter": "python",
   "pygments_lexer": "ipython3",
   "version": "3.8.5"
  }
 },
 "nbformat": 4,
 "nbformat_minor": 4
}
